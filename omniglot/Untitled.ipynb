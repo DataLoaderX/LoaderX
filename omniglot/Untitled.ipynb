{
 "cells": [
  {
   "cell_type": "code",
   "execution_count": 1,
   "metadata": {
    "ExecuteTime": {
     "end_time": "2018-11-03T14:36:46.752141Z",
     "start_time": "2018-11-03T14:36:46.061907Z"
    }
   },
   "outputs": [],
   "source": [
    "import numpy as np\n",
    "import copy\n",
    "from imageio import imread\n",
    "from scipy.spatial.distance import cdist\n",
    "\n",
    "# Parameters\n",
    "nrun = 20  # number of classification runs\n",
    "fname_label = 'class_labels.txt'  # where class labels are stored for each run"
   ]
  },
  {
   "cell_type": "code",
   "execution_count": 2,
   "metadata": {
    "ExecuteTime": {
     "end_time": "2018-11-03T14:36:47.546931Z",
     "start_time": "2018-11-03T14:36:47.542945Z"
    }
   },
   "outputs": [],
   "source": [
    "ftype = 'cost'\n",
    "folder = 'all_runs/run01/'\n",
    "assert ((ftype == 'cost') | (ftype == 'score'))"
   ]
  },
  {
   "cell_type": "code",
   "execution_count": 3,
   "metadata": {
    "ExecuteTime": {
     "end_time": "2018-11-03T14:36:48.339547Z",
     "start_time": "2018-11-03T14:36:48.333548Z"
    }
   },
   "outputs": [],
   "source": [
    "# get file names\n",
    "with open(folder + fname_label) as f:\n",
    "    content = f.read().splitlines()\n",
    "    \n",
    "pairs = [line.split() for line in content]\n",
    "test_files = [pair[0] for pair in pairs]\n",
    "train_files = [pair[1] for pair in pairs]\n",
    "answers_files = copy.copy(train_files)\n",
    "test_files.sort()\n",
    "train_files.sort()\n",
    "ntrain = len(train_files)\n",
    "ntest = len(test_files)"
   ]
  },
  {
   "cell_type": "code",
   "execution_count": 14,
   "metadata": {
    "ExecuteTime": {
     "end_time": "2018-11-03T14:53:22.473104Z",
     "start_time": "2018-11-03T14:53:22.468602Z"
    },
    "scrolled": true
   },
   "outputs": [
    {
     "data": {
      "text/plain": [
       "['run01/training/class08.png',\n",
       " 'run01/training/class09.png',\n",
       " 'run01/training/class02.png',\n",
       " 'run01/training/class19.png',\n",
       " 'run01/training/class10.png',\n",
       " 'run01/training/class18.png',\n",
       " 'run01/training/class13.png',\n",
       " 'run01/training/class01.png',\n",
       " 'run01/training/class04.png',\n",
       " 'run01/training/class11.png',\n",
       " 'run01/training/class17.png',\n",
       " 'run01/training/class03.png',\n",
       " 'run01/training/class20.png',\n",
       " 'run01/training/class07.png',\n",
       " 'run01/training/class12.png',\n",
       " 'run01/training/class05.png',\n",
       " 'run01/training/class06.png',\n",
       " 'run01/training/class15.png',\n",
       " 'run01/training/class14.png',\n",
       " 'run01/training/class16.png']"
      ]
     },
     "execution_count": 14,
     "metadata": {},
     "output_type": "execute_result"
    }
   ],
   "source": [
    "answers_files"
   ]
  },
  {
   "cell_type": "code",
   "execution_count": 13,
   "metadata": {
    "ExecuteTime": {
     "end_time": "2018-11-03T14:53:09.147594Z",
     "start_time": "2018-11-03T14:53:09.141577Z"
    },
    "scrolled": true
   },
   "outputs": [
    {
     "data": {
      "text/plain": [
       "['run01/training/class01.png',\n",
       " 'run01/training/class02.png',\n",
       " 'run01/training/class03.png',\n",
       " 'run01/training/class04.png',\n",
       " 'run01/training/class05.png',\n",
       " 'run01/training/class06.png',\n",
       " 'run01/training/class07.png',\n",
       " 'run01/training/class08.png',\n",
       " 'run01/training/class09.png',\n",
       " 'run01/training/class10.png',\n",
       " 'run01/training/class11.png',\n",
       " 'run01/training/class12.png',\n",
       " 'run01/training/class13.png',\n",
       " 'run01/training/class14.png',\n",
       " 'run01/training/class15.png',\n",
       " 'run01/training/class16.png',\n",
       " 'run01/training/class17.png',\n",
       " 'run01/training/class18.png',\n",
       " 'run01/training/class19.png',\n",
       " 'run01/training/class20.png']"
      ]
     },
     "execution_count": 13,
     "metadata": {},
     "output_type": "execute_result"
    }
   ],
   "source": [
    "train_files"
   ]
  },
  {
   "cell_type": "code",
   "execution_count": 6,
   "metadata": {
    "ExecuteTime": {
     "end_time": "2018-11-03T14:37:27.370403Z",
     "start_time": "2018-11-03T14:37:27.365943Z"
    },
    "code_folding": [
     0,
     13
    ]
   },
   "outputs": [],
   "source": [
    "def LoadImgAsPoints(fn):\n",
    "    '''\n",
    "    Load image file and return coordinates of 'inked' pixels in the binary image\n",
    "    '''\n",
    "    fn = 'all_runs/'+ fn\n",
    "    I = imread(fn)\n",
    "    I = np.array(I, dtype=bool)\n",
    "    I = np.logical_not(I)\n",
    "    (row, col) = I.nonzero()\n",
    "    D = np.array([row, col]).T.astype(float)\n",
    "    D = D - D.mean(axis=0)\n",
    "    return D\n",
    "\n",
    "def ModHausdorffDistance(itemA, itemB):\n",
    "    # Modified Hausdorff Distance\n",
    "    #\n",
    "    # Input\n",
    "    #  itemA : [n x 2] coordinates of \"inked\" pixels\n",
    "    #  itemB : [m x 2] coordinates of \"inked\" pixels\n",
    "    #\n",
    "    #  M.-P. Dubuisson, A. K. Jain (1994). A modified hausdorff distance for object matching.\n",
    "    #  International Conference on Pattern Recognition, pp. 566-568.\n",
    "    #\n",
    "    D = cdist(itemA, itemB)\n",
    "    mindist_A = D.min(axis=1)\n",
    "    mindist_B = D.min(axis=0)\n",
    "    mean_A = np.mean(mindist_A)\n",
    "    mean_B = np.mean(mindist_B)\n",
    "    return max(mean_A, mean_B)"
   ]
  },
  {
   "cell_type": "code",
   "execution_count": 7,
   "metadata": {
    "ExecuteTime": {
     "end_time": "2018-11-03T14:37:28.293158Z",
     "start_time": "2018-11-03T14:37:28.255651Z"
    },
    "scrolled": true
   },
   "outputs": [],
   "source": [
    "# load the images (and, if needed, extract features)\n",
    "train_items = [LoadImgAsPoints(f) for f in train_files]\n",
    "test_items = [LoadImgAsPoints(f) for f in test_files]"
   ]
  },
  {
   "cell_type": "code",
   "execution_count": 10,
   "metadata": {
    "ExecuteTime": {
     "end_time": "2018-11-03T14:40:20.133047Z",
     "start_time": "2018-11-03T14:40:15.216804Z"
    }
   },
   "outputs": [],
   "source": [
    "# compute cost matrix\n",
    "costM = np.zeros((ntest, ntrain), float)\n",
    "for i in range(ntest):\n",
    "    for c in range(ntrain):\n",
    "        costM[i, c] = ModHausdorffDistance(test_items[i], train_items[c])"
   ]
  },
  {
   "cell_type": "code",
   "execution_count": 11,
   "metadata": {
    "ExecuteTime": {
     "end_time": "2018-11-03T14:40:53.543803Z",
     "start_time": "2018-11-03T14:40:53.539805Z"
    }
   },
   "outputs": [],
   "source": [
    "if ftype == 'cost':\n",
    "    YHAT = np.argmin(costM, axis=1)\n",
    "elif ftype == 'score':\n",
    "    YHAT = np.argmax(costM, axis=1)\n",
    "else:\n",
    "    assert False\n",
    "\n",
    "# compute the error rate\n",
    "correct = 0.0\n",
    "for i in range(ntest):\n",
    "    if train_files[YHAT[i]] == answers_files[i]:\n",
    "        correct += 1.0\n",
    "pcorrect = 100 * correct / ntest\n",
    "perror = 100 - pcorrect\n",
    "perror"
   ]
  },
  {
   "cell_type": "code",
   "execution_count": null,
   "metadata": {
    "ExecuteTime": {
     "end_time": "2018-11-03T14:33:24.002564Z",
     "start_time": "2018-11-03T14:33:23.999089Z"
    }
   },
   "outputs": [],
   "source": []
  }
 ],
 "metadata": {
  "kernelspec": {
   "display_name": "Python [conda root]",
   "language": "python",
   "name": "conda-root-py"
  },
  "language_info": {
   "codemirror_mode": {
    "name": "ipython",
    "version": 3
   },
   "file_extension": ".py",
   "mimetype": "text/x-python",
   "name": "python",
   "nbconvert_exporter": "python",
   "pygments_lexer": "ipython3",
   "version": "3.6.5"
  },
  "latex_envs": {
   "LaTeX_envs_menu_present": true,
   "autoclose": false,
   "autocomplete": true,
   "bibliofile": "biblio.bib",
   "cite_by": "apalike",
   "current_citInitial": 1,
   "eqLabelWithNumbers": true,
   "eqNumInitial": 1,
   "hotkeys": {
    "equation": "Ctrl-E",
    "itemize": "Ctrl-I"
   },
   "labels_anchors": false,
   "latex_user_defs": false,
   "report_style_numbering": false,
   "user_envs_cfg": false
  },
  "nbTranslate": {
   "displayLangs": [
    "*"
   ],
   "hotkey": "alt-t",
   "langInMainMenu": true,
   "sourceLang": "en",
   "targetLang": "fr",
   "useGoogleTranslate": true
  },
  "toc": {
   "base_numbering": 1,
   "nav_menu": {},
   "number_sections": true,
   "sideBar": true,
   "skip_h1_title": false,
   "title_cell": "Table of Contents",
   "title_sidebar": "Contents",
   "toc_cell": false,
   "toc_position": {},
   "toc_section_display": true,
   "toc_window_display": false
  },
  "varInspector": {
   "cols": {
    "lenName": 16,
    "lenType": 16,
    "lenVar": 40
   },
   "kernels_config": {
    "python": {
     "delete_cmd_postfix": "",
     "delete_cmd_prefix": "del ",
     "library": "var_list.py",
     "varRefreshCmd": "print(var_dic_list())"
    },
    "r": {
     "delete_cmd_postfix": ") ",
     "delete_cmd_prefix": "rm(",
     "library": "var_list.r",
     "varRefreshCmd": "cat(var_dic_list()) "
    }
   },
   "types_to_exclude": [
    "module",
    "function",
    "builtin_function_or_method",
    "instance",
    "_Feature"
   ],
   "window_display": false
  }
 },
 "nbformat": 4,
 "nbformat_minor": 2
}
