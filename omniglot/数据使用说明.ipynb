{
 "cells": [
  {
   "cell_type": "markdown",
   "metadata": {},
   "source": [
    "## 环境准备\n",
    "\n",
    "如果在 binder hub 进行编译，只需要运行下面的命令即可保证程序正常运行：\n",
    "\n",
    "```python\n",
    "!pip install -U numpy\n",
    "!pip install -U matplotlib\n",
    "!pip install -U imageio\n",
    "```\n",
    "\n",
    "## 数据初步整理\n",
    "\n",
    "### 获取 `./python/` 目录下的数据。"
   ]
  },
  {
   "cell_type": "code",
   "execution_count": 1,
   "metadata": {
    "ExecuteTime": {
     "end_time": "2019-01-06T10:56:28.328341Z",
     "start_time": "2019-01-06T10:56:26.821342Z"
    }
   },
   "outputs": [
    {
     "name": "stdout",
     "output_type": "stream",
     "text": [
      "Populating the interactive namespace from numpy and matplotlib\n"
     ]
    }
   ],
   "source": [
    "import os\n",
    "import time\n",
    "import numpy as np\n",
    "import zipfile\n",
    "import imageio\n",
    "import pickle\n",
    "\n",
    "%pylab inline\n",
    "\n",
    "\n",
    "def timer(func):\n",
    "    '''\n",
    "    定义一个计时器，传入一个，并返回另一个附加了计时功能的方法\n",
    "    '''\n",
    "\n",
    "    # 定义一个内嵌的包装函数，给传入的函数加上计时功能的包装\n",
    "    def wrapper(*args):\n",
    "        start = time.time()\n",
    "        func(*args)\n",
    "        end = time.time()\n",
    "        print('used: {:.4f} s'.format(end - start))\n",
    "\n",
    "    # 将包装后的函数返回\n",
    "    return wrapper\n",
    "\n",
    "\n",
    "class Loader(dict):\n",
    "    '''\n",
    "    载入 zip 数据\n",
    "    '''\n",
    "\n",
    "    def __init__(self, data_path, *args, **kwargs):\n",
    "        super().__init__(*args, **kwargs)\n",
    "        self.__dict__ = self  # 使得该类成为一个 字典\n",
    "        self.__Z = zipfile.ZipFile(data_path)  # 载入压缩文件\n",
    "        self.get_names()\n",
    "\n",
    "    def get_names(self):\n",
    "        '''\n",
    "        获取数据集集的 超类 名称\n",
    "        '''\n",
    "        names = []\n",
    "        for name in self.__Z.NameToInfo:\n",
    "            if name.count('/') == 3 and not name.endswith('/'):\n",
    "                names.append(name)\n",
    "        self.names = names\n",
    "\n",
    "    def buffer2img(self, name):\n",
    "        '''\n",
    "        将 Buffer 形式的图片转换为 numpy\n",
    "        '''\n",
    "        img = imageio.imread(self.__Z.read(name))\n",
    "        return img\n",
    "\n",
    "    def imshow(self, name):\n",
    "        '''\n",
    "        显示灰度图\n",
    "        '''\n",
    "        img = self.buffer2img(name)\n",
    "        plt.imshow(img, cmap='gray')\n",
    "        plt.axis('off')\n",
    "        plt.show()\n",
    "\n",
    "    def getCat(self):\n",
    "        '''\n",
    "        返回 cat_dict\n",
    "        '''\n",
    "        cat_dict = {}\n",
    "        for name in self.names:\n",
    "            _, alphabet, *_ = name.split('/')\n",
    "            cat_dict.update({alphabet: {}})\n",
    "        for name in self.names:\n",
    "            _, alphabet, letter, _ = name.split('/')\n",
    "\n",
    "            cat_dict[alphabet][letter] = cat_dict[alphabet].get(letter,\n",
    "                                                                []) + [name]\n",
    "        return cat_dict\n",
    "\n",
    "    def stack_image(self):\n",
    "        '''\n",
    "        返回 Xs, ys， lang_dict\n",
    "\n",
    "        =====\n",
    "        Xs: 4 维数组，第一个维度表示子类，第二个维度表示样本\n",
    "        ys: 样本的子类标签\n",
    "        lang_dict：超类与子类的关系字典\n",
    "        '''\n",
    "        cat_dict = self.getCat()\n",
    "\n",
    "        Xs = []\n",
    "        ys = []\n",
    "        lang_dict = {}\n",
    "        curr_y = 0\n",
    "        for alphabet in cat_dict:\n",
    "            X = []\n",
    "            lang_dict[alphabet] = [curr_y, None]\n",
    "            for letter in cat_dict[alphabet]:\n",
    "                names = cat_dict[alphabet][letter]\n",
    "                X.append(np.stack([self.buffer2img(name) for name in names]))\n",
    "                for _ in names:\n",
    "                    ys.append(curr_y)\n",
    "                lang_dict[alphabet][1] = curr_y\n",
    "                curr_y += 1\n",
    "            Xs.extend(np.stack(X))\n",
    "        xs = np.stack(Xs)\n",
    "        return xs, np.vstack(ys), lang_dict\n",
    "\n",
    "    @timer\n",
    "    def save(self, path):\n",
    "        '''\n",
    "        将整理好的数据保存到 path\n",
    "        '''\n",
    "        xs, _, c = self.stack_image()\n",
    "        with open(path, \"wb\") as f:\n",
    "            pickle.dump((xs, c), f)\n",
    "\n",
    "    def __iter__(self):\n",
    "        pass\n",
    "\n",
    "\n",
    "train_path = './python/images_background.zip'\n",
    "test_path = './python/images_evaluation.zip'\n",
    "train_loader = Loader(train_path)\n",
    "test_loader = Loader(test_path)"
   ]
  },
  {
   "cell_type": "code",
   "execution_count": 2,
   "metadata": {
    "ExecuteTime": {
     "end_time": "2019-01-06T10:56:32.765382Z",
     "start_time": "2019-01-06T10:56:32.758344Z"
    },
    "scrolled": true
   },
   "outputs": [
    {
     "data": {
      "text/plain": [
       "dict_keys(['_Loader__Z', 'names'])"
      ]
     },
     "execution_count": 2,
     "metadata": {},
     "output_type": "execute_result"
    }
   ],
   "source": [
    "train_loader.keys()"
   ]
  },
  {
   "cell_type": "code",
   "execution_count": 3,
   "metadata": {
    "ExecuteTime": {
     "end_time": "2019-01-06T10:56:37.372379Z",
     "start_time": "2019-01-06T10:56:36.859343Z"
    },
    "scrolled": true
   },
   "outputs": [
    {
     "data": {
      "image/png": "[encoded data removed]",
      "text/plain": [
       "<Figure size 432x288 with 1 Axes>"
      ]
     },
     "metadata": {},
     "output_type": "display_data"
    }
   ],
   "source": [
    "# 从测试集中随机选择一张图片，并显示\n",
    "test_loader.imshow(test_loader.names[np.random.randint(len(test_loader.names))])"
   ]
  },
  {
   "cell_type": "code",
   "execution_count": 4,
   "metadata": {
    "ExecuteTime": {
     "end_time": "2019-01-06T10:56:56.628380Z",
     "start_time": "2019-01-06T10:56:41.851342Z"
    },
    "scrolled": true
   },
   "outputs": [],
   "source": [
    "trainX, trainY, train_lang = train_loader.stack_image()\n",
    "testX, testY, test_lang = test_loader.stack_image()"
   ]
  },
  {
   "cell_type": "code",
   "execution_count": 5,
   "metadata": {
    "ExecuteTime": {
     "end_time": "2019-01-06T10:56:59.862348Z",
     "start_time": "2019-01-06T10:56:59.855342Z"
    }
   },
   "outputs": [
    {
     "data": {
      "text/plain": [
       "(964, 20, 105, 105)"
      ]
     },
     "execution_count": 5,
     "metadata": {},
     "output_type": "execute_result"
    }
   ],
   "source": [
    "trainX.shape"
   ]
  },
  {
   "cell_type": "code",
   "execution_count": 6,
   "metadata": {
    "ExecuteTime": {
     "end_time": "2019-01-06T10:57:03.690960Z",
     "start_time": "2019-01-06T10:57:03.684956Z"
    }
   },
   "outputs": [
    {
     "data": {
      "text/plain": [
       "(659, 20, 105, 105)"
      ]
     },
     "execution_count": 6,
     "metadata": {},
     "output_type": "execute_result"
    }
   ],
   "source": [
    "testX.shape"
   ]
  },
  {
   "cell_type": "code",
   "execution_count": 7,
   "metadata": {
    "ExecuteTime": {
     "end_time": "2018-11-05T08:07:17.427044Z",
     "start_time": "2018-11-05T08:07:17.417038Z"
    }
   },
   "outputs": [
    {
     "name": "stdout",
     "output_type": "stream",
     "text": [
      "Omniglot 数据集包含来自 50 个不同字母的 1623 个字符。\n",
      "其中，训练集有 30 个字母,测试集有 20 个字母。\n",
      "每一个字符都是由 20 个不同的人通过亚马逊的 Mechanical Turk 在线绘制的。\n"
     ]
    }
   ],
   "source": [
    "character_num = trainX.shape[0] + testX.shape[0]\n",
    "alphabet_num = len(train_lang) + len(test_lang)\n",
    "print('Omniglot 数据集包含来自 {} 个不同字母的 {} 个字符。'.format(alphabet_num, character_num))\n",
    "print('其中，训练集有 {} 个字母'.format(len(train_lang)), end=',')\n",
    "print('测试集有 {} 个字母。'.format(len(test_lang)))\n",
    "print('每一个字符都是由 {} 个不同的人通过亚马逊的 Mechanical Turk 在线绘制的。'.format(trainX.shape[1]))"
   ]
  },
  {
   "cell_type": "markdown",
   "metadata": {},
   "source": [
    "### 保存处理好的数据到 temp"
   ]
  },
  {
   "cell_type": "code",
   "execution_count": 7,
   "metadata": {
    "ExecuteTime": {
     "end_time": "2019-01-06T10:57:46.126319Z",
     "start_time": "2019-01-06T10:57:26.466319Z"
    }
   },
   "outputs": [
    {
     "name": "stdout",
     "output_type": "stream",
     "text": [
      "开始保存训练数据, used: 11.1990 s\n",
      "开始保存测试数据, used: 8.4530 s\n"
     ]
    }
   ],
   "source": [
    "temp = '../temp/'\n",
    "if not os.path.exists(temp):\n",
    "    os.mkdir(temp)\n",
    "\n",
    "print('开始保存训练数据', end=', ')\n",
    "train_loader.save('{}train.json'.format(temp))\n",
    "print('开始保存测试数据', end=', ')\n",
    "test_loader.save('{}test.json'.format(temp))"
   ]
  },
  {
   "cell_type": "code",
   "execution_count": null,
   "metadata": {},
   "outputs": [],
   "source": []
  }
 ],
 "metadata": {
  "kernelspec": {
   "display_name": "Python [default]",
   "language": "python",
   "name": "python3"
  },
  "language_info": {
   "codemirror_mode": {
    "name": "ipython",
    "version": 3
   },
   "file_extension": ".py",
   "mimetype": "text/x-python",
   "name": "python",
   "nbconvert_exporter": "python",
   "pygments_lexer": "ipython3",
   "version": "3.6.5"
  },
  "latex_envs": {
   "LaTeX_envs_menu_present": true,
   "autoclose": false,
   "autocomplete": true,
   "bibliofile": "biblio.bib",
   "cite_by": "apalike",
   "current_citInitial": 1,
   "eqLabelWithNumbers": true,
   "eqNumInitial": 1,
   "hotkeys": {
    "equation": "Ctrl-E",
    "itemize": "Ctrl-I"
   },
   "labels_anchors": false,
   "latex_user_defs": false,
   "report_style_numbering": false,
   "user_envs_cfg": false
  },
  "nbTranslate": {
   "displayLangs": [
    "*"
   ],
   "hotkey": "alt-t",
   "langInMainMenu": true,
   "sourceLang": "en",
   "targetLang": "fr",
   "useGoogleTranslate": true
  },
  "toc": {
   "base_numbering": 1,
   "nav_menu": {},
   "number_sections": true,
   "sideBar": true,
   "skip_h1_title": false,
   "title_cell": "Table of Contents",
   "title_sidebar": "Contents",
   "toc_cell": false,
   "toc_position": {},
   "toc_section_display": true,
   "toc_window_display": false
  },
  "varInspector": {
   "cols": {
    "lenName": 16,
    "lenType": 16,
    "lenVar": 40
   },
   "kernels_config": {
    "python": {
     "delete_cmd_postfix": "",
     "delete_cmd_prefix": "del ",
     "library": "var_list.py",
     "varRefreshCmd": "print(var_dic_list())"
    },
    "r": {
     "delete_cmd_postfix": ") ",
     "delete_cmd_prefix": "rm(",
     "library": "var_list.r",
     "varRefreshCmd": "cat(var_dic_list()) "
    }
   },
   "types_to_exclude": [
    "module",
    "function",
    "builtin_function_or_method",
    "instance",
    "_Feature"
   ],
   "window_display": false
  }
 },
 "nbformat": 4,
 "nbformat_minor": 2
}
