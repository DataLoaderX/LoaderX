{
 "cells": [
  {
   "cell_type": "code",
   "execution_count": 1,
   "metadata": {
    "ExecuteTime": {
     "end_time": "2018-11-04T07:14:19.955275Z",
     "start_time": "2018-11-04T07:14:19.076258Z"
    }
   },
   "outputs": [],
   "source": [
    "import os\n",
    "import zipfile\n",
    "import numpy as np\n",
    "from imageio import imread\n",
    "from scipy.spatial.distance import cdist\n",
    "\n",
    "\n",
    "class Test:\n",
    "    def __init__(self, zip_name):\n",
    "        self.__Z = zipfile.ZipFile(zip_name)\n",
    "        self.cat_dict = self.get_cat()\n",
    "\n",
    "    def get_cat(self):\n",
    "        cat_dict = {}\n",
    "        for name in self.__Z.NameToInfo:\n",
    "            if name.count('/') == 1 and not name.endswith('/'):\n",
    "                run_name, _ = name.split('/')\n",
    "                pair_names = self.__Z.read(name).splitlines()\n",
    "                pair_names = [\n",
    "                    pair_name.decode().split(' ') for pair_name in pair_names\n",
    "                ]\n",
    "                test_files, train_files = np.asanyarray(pair_names).T\n",
    "                cat_dict[run_name] = {'test': test_files, 'train': train_files}\n",
    "        return cat_dict\n",
    "\n",
    "    def LoadImgAsPoints(self, fn):\n",
    "        '''\n",
    "        Load image file and return coordinates of 'inked' pixels in the binary image\n",
    "        '''\n",
    "        I = imread(self.__Z.read(fn))\n",
    "        I = np.array(I, dtype=bool)\n",
    "        I = np.logical_not(I)\n",
    "        (row, col) = I.nonzero()\n",
    "        D = np.array([row, col]).T.astype(float)\n",
    "        D = D - D.mean(axis=0)\n",
    "        return D\n",
    "\n",
    "    def ModHausdorffDistance(self, itemA, itemB):\n",
    "        '''\n",
    "        M.-P. Dubuisson, A. K. Jain (1994). A modified hausdorff distance for object matching.\n",
    "        International Conference on Pattern Recognition, pp. 566-568.\n",
    "        计算 similarity between two images\n",
    "\n",
    "        Input\n",
    "        ====\n",
    "        itemA : [n x 2] coordinates of \"inked\" pixels\n",
    "        itemB : [m x 2] coordinates of \"inked\" pixels\n",
    "\n",
    "        '''\n",
    "        D = cdist(itemA, itemB)\n",
    "        mindist_A = D.min(axis=1)\n",
    "        mindist_B = D.min(axis=0)\n",
    "        mean_A = np.mean(mindist_A)\n",
    "        mean_B = np.mean(mindist_B)\n",
    "        return max(mean_A, mean_B)\n",
    "\n",
    "    def classification_run(self, cat, ftype='cost'):\n",
    "        '''\n",
    "        Compute error rate for one run of one-shot classification\n",
    "\n",
    "        Input\n",
    "        ===============\n",
    "        cat : contains images for a run of one-shot classification\n",
    "        ftype  : 'cost' if small values from f_cost mean more similar, or 'score' if large values are more similar\n",
    "\n",
    "        Output\n",
    "        =============\n",
    "        perror : percent errors (0 to 100% error)\n",
    "        '''\n",
    "        assert ((ftype == 'cost') | (ftype == 'score'))\n",
    "        train_files = self.cat_dict[cat]['train']\n",
    "        answers_files = train_files.copy()\n",
    "        test_files = self.cat_dict[cat]['test']\n",
    "        ntrain = len(train_files)\n",
    "        ntest = len(test_files)\n",
    "\n",
    "        # load the images (and, if needed, extract features)\n",
    "        train_items = [self.LoadImgAsPoints(f) for f in train_files]\n",
    "        test_items = [self.LoadImgAsPoints(f) for f in test_files]\n",
    "        # compute cost matrix\n",
    "        costM = np.zeros((ntest, ntrain), float)\n",
    "        for i in range(ntest):\n",
    "            for c in range(ntrain):\n",
    "                costM[i, c] = self.ModHausdorffDistance(\n",
    "                    test_items[i], train_items[c])\n",
    "        if ftype == 'cost':\n",
    "            YHAT = np.argmin(costM, axis=1)\n",
    "        elif ftype == 'score':\n",
    "            YHAT = np.argmax(costM, axis=1)\n",
    "        else:\n",
    "            assert False\n",
    "\n",
    "        # compute the error rate\n",
    "        correct = 0.0\n",
    "        for i in range(ntest):\n",
    "            if train_files[YHAT[i]] == answers_files[i]:\n",
    "                correct += 1.0\n",
    "        pcorrect = 100 * correct / ntest\n",
    "        perror = 100 - pcorrect\n",
    "        return perror\n",
    "\n",
    "    def test(self, ftype='cost'):\n",
    "        '''\n",
    "        M.-P. Dubuisson, A. K. Jain (1994). A modified hausdorff distance for object matching.\n",
    "        International Conference on Pattern Recognition, pp. 566-568.\n",
    "\n",
    "        Results\n",
    "        =====\n",
    "        38.8 percent errors\n",
    "        '''\n",
    "        print('One-shot classification demo with Modified Hausdorff Distance')\n",
    "        perror = []\n",
    "        for r, cat in enumerate(self.cat_dict):\n",
    "            perror.append(self.classification_run(cat, ftype))\n",
    "\n",
    "            print(cat + \" (error \" + str(perror[r]) + \"%)\")\n",
    "        total = np.mean(perror)\n",
    "        print(\" average error \" + str(total) + \"%\")"
   ]
  },
  {
   "cell_type": "code",
   "execution_count": 2,
   "metadata": {
    "ExecuteTime": {
     "end_time": "2018-11-04T07:15:43.421266Z",
     "start_time": "2018-11-04T07:14:19.958758Z"
    },
    "scrolled": true
   },
   "outputs": [
    {
     "name": "stdout",
     "output_type": "stream",
     "text": [
      "One-shot classification demo with Modified Hausdorff Distance\n",
      "run01 (error 45.0%)\n",
      "run02 (error 35.0%)\n",
      "run03 (error 40.0%)\n",
      "run04 (error 25.0%)\n",
      "run05 (error 30.0%)\n",
      "run06 (error 15.0%)\n",
      "run07 (error 60.0%)\n",
      "run08 (error 35.0%)\n",
      "run09 (error 40.0%)\n",
      "run10 (error 55.0%)\n",
      "run11 (error 15.0%)\n",
      "run12 (error 70.0%)\n",
      "run13 (error 65.0%)\n",
      "run14 (error 35.0%)\n",
      "run15 (error 15.0%)\n",
      "run16 (error 25.0%)\n",
      "run17 (error 30.0%)\n",
      "run18 (error 40.0%)\n",
      "run19 (error 70.0%)\n",
      "run20 (error 30.0%)\n",
      " average error 38.75%\n"
     ]
    }
   ],
   "source": [
    "zip_name = './python/one-shot-classification/all_runs.zip'\n",
    "ftype = 'cost'\n",
    "\n",
    "T = Test(zip_name)\n",
    "T.test(ftype)"
   ]
  }
 ],
 "metadata": {
  "kernelspec": {
   "display_name": "Python [conda root]",
   "language": "python",
   "name": "conda-root-py"
  },
  "language_info": {
   "codemirror_mode": {
    "name": "ipython",
    "version": 3
   },
   "file_extension": ".py",
   "mimetype": "text/x-python",
   "name": "python",
   "nbconvert_exporter": "python",
   "pygments_lexer": "ipython3",
   "version": "3.6.5"
  },
  "latex_envs": {
   "LaTeX_envs_menu_present": true,
   "autoclose": false,
   "autocomplete": true,
   "bibliofile": "biblio.bib",
   "cite_by": "apalike",
   "current_citInitial": 1,
   "eqLabelWithNumbers": true,
   "eqNumInitial": 1,
   "hotkeys": {
    "equation": "Ctrl-E",
    "itemize": "Ctrl-I"
   },
   "labels_anchors": false,
   "latex_user_defs": false,
   "report_style_numbering": false,
   "user_envs_cfg": false
  },
  "nbTranslate": {
   "displayLangs": [
    "*"
   ],
   "hotkey": "alt-t",
   "langInMainMenu": true,
   "sourceLang": "en",
   "targetLang": "fr",
   "useGoogleTranslate": true
  },
  "toc": {
   "base_numbering": 1,
   "nav_menu": {},
   "number_sections": true,
   "sideBar": true,
   "skip_h1_title": false,
   "title_cell": "Table of Contents",
   "title_sidebar": "Contents",
   "toc_cell": false,
   "toc_position": {},
   "toc_section_display": true,
   "toc_window_display": false
  },
  "varInspector": {
   "cols": {
    "lenName": 16,
    "lenType": 16,
    "lenVar": 40
   },
   "kernels_config": {
    "python": {
     "delete_cmd_postfix": "",
     "delete_cmd_prefix": "del ",
     "library": "var_list.py",
     "varRefreshCmd": "print(var_dic_list())"
    },
    "r": {
     "delete_cmd_postfix": ") ",
     "delete_cmd_prefix": "rm(",
     "library": "var_list.r",
     "varRefreshCmd": "cat(var_dic_list()) "
    }
   },
   "types_to_exclude": [
    "module",
    "function",
    "builtin_function_or_method",
    "instance",
    "_Feature"
   ],
   "window_display": false
  }
 },
 "nbformat": 4,
 "nbformat_minor": 2
}
