{
 "cells": [
  {
   "cell_type": "markdown",
   "metadata": {},
   "source": [
    "载入必要的包："
   ]
  },
  {
   "cell_type": "code",
   "execution_count": 3,
   "metadata": {
    "ExecuteTime": {
     "end_time": "2018-11-28T10:53:22.214912Z",
     "start_time": "2018-11-28T10:53:22.206917Z"
    }
   },
   "outputs": [],
   "source": [
    "import os\n",
    "import zipfile\n",
    "from mxnet import image"
   ]
  },
  {
   "cell_type": "code",
   "execution_count": null,
   "metadata": {},
   "outputs": [],
   "source": [
    "def get_image_names(root):\n",
    "    dir_names = os.listdir(root + '/images')\n",
    "    image_names = [\n",
    "        '{}/images/{}'.format(root, dir_names[i])\n",
    "        for i, _ in enumerate(dir_names)\n",
    "    ]\n",
    "    return image_names\n",
    "\n",
    "\n",
    "def get_stuff_names():\n",
    "    '''\n",
    "    dataType=['val2017', 'train2017']\n",
    "    '''\n",
    "    stuff_val_names = root + '/annotations' + \\\n",
    "        '/stuff_%s_pixelmaps.zip' % ('val2017')\n",
    "    stuff_train_names = root + '/annotations' + \\\n",
    "        '/stuff_%s_pixelmaps.zip' % ('train2017')\n",
    "    return stuff_train_names, stuff_val_names\n",
    "\n",
    "\n",
    "def data_iter(dataType):\n",
    "    z = zipfile.ZipFile(DataType)\n",
    "    for filename in z.namelist()[1:]:\n",
    "        content = z.read(filename)\n",
    "        yield image.imdecode(content)\n",
    "\n",
    "\n",
    "def unzip_annotations():\n",
    "    '''\n",
    "    标签数据下载到 root 文件夹中，并解压，然后删除（标签的）压缩文件\n",
    "    '''\n",
    "    # 获取标签信息文件名\n",
    "    annDir = [z_name for z_name in os.listdir(root) if z_name.endswith('.zip')]\n",
    "    for ann_name in annDir:\n",
    "        filename = root + '/' + ann_name\n",
    "        z = zipfile.ZipFile(filename)\n",
    "        # 全部解压\n",
    "        z.extractall(root)\n",
    "    z.close()\n",
    "\n",
    "\n",
    "def del_annotations():\n",
    "    # 获取标签信息文件名\n",
    "    annDir = [z_name for z_name in os.listdir(root) if z_name.endswith('.zip')]\n",
    "    for ann_name in annDir:\n",
    "        filename = root + '/' + ann_name\n",
    "        os.remove(filename)"
   ]
  },
  {
   "cell_type": "code",
   "execution_count": null,
   "metadata": {
    "ExecuteTime": {
     "end_time": "2018-04-28T13:18:08.018114Z",
     "start_time": "2018-04-28T13:18:05.021997Z"
    }
   },
   "outputs": [],
   "source": [
    "import cocox\n",
    "import zipfile"
   ]
  },
  {
   "cell_type": "code",
   "execution_count": null,
   "metadata": {},
   "outputs": [],
   "source": [
    "cocox.root = 'F:/coco'"
   ]
  },
  {
   "cell_type": "markdown",
   "metadata": {},
   "source": [
    "查看 `coco/images/` 文件夹下的数据："
   ]
  },
  {
   "cell_type": "code",
   "execution_count": null,
   "metadata": {
    "ExecuteTime": {
     "end_time": "2018-04-28T10:38:38.999632Z",
     "start_time": "2018-04-28T10:38:38.993629Z"
    },
    "scrolled": false
   },
   "outputs": [],
   "source": [
    "image_names = cocox.get_image_names()\n",
    "image_names"
   ]
  },
  {
   "cell_type": "markdown",
   "metadata": {},
   "source": [
    "查看 `coco/` 文件夹的文件："
   ]
  },
  {
   "cell_type": "code",
   "execution_count": null,
   "metadata": {
    "ExecuteTime": {
     "end_time": "2018-04-28T10:25:20.018828Z",
     "start_time": "2018-04-28T10:25:20.015812Z"
    }
   },
   "outputs": [],
   "source": [
    "import os\n",
    "dataDir = cocox.root"
   ]
  },
  {
   "cell_type": "code",
   "execution_count": null,
   "metadata": {
    "ExecuteTime": {
     "end_time": "2018-04-28T10:20:39.594562Z",
     "start_time": "2018-04-28T10:20:39.587026Z"
    },
    "scrolled": true
   },
   "outputs": [],
   "source": [
    "os.listdir(dataDir)"
   ]
  },
  {
   "cell_type": "markdown",
   "metadata": {},
   "source": [
    "我们只需要获取 annotations 的信息（这里都是以 `.zip` 结尾）："
   ]
  },
  {
   "cell_type": "code",
   "execution_count": null,
   "metadata": {
    "ExecuteTime": {
     "end_time": "2018-04-28T10:20:41.437552Z",
     "start_time": "2018-04-28T10:20:41.430560Z"
    },
    "scrolled": false
   },
   "outputs": [],
   "source": [
    "annDir = [z_name for z_name in os.listdir(dataDir) if z_name.endswith('.zip')]\n",
    "annDir"
   ]
  },
  {
   "cell_type": "markdown",
   "metadata": {},
   "source": [
    "解压 annotations 的文件："
   ]
  },
  {
   "cell_type": "code",
   "execution_count": null,
   "metadata": {
    "ExecuteTime": {
     "end_time": "2018-04-28T10:06:35.275039Z",
     "start_time": "2018-04-28T10:05:58.249974Z"
    }
   },
   "outputs": [],
   "source": [
    "for ann_name in annDir:\n",
    "    z = zipfile.ZipFile(dataDir + '/' + ann_name)\n",
    "    # 全部解压\n",
    "    z.extractall(dataDir)"
   ]
  },
  {
   "cell_type": "code",
   "execution_count": null,
   "metadata": {
    "ExecuteTime": {
     "end_time": "2018-04-28T10:26:00.499828Z",
     "start_time": "2018-04-28T10:25:25.871849Z"
    }
   },
   "outputs": [],
   "source": [
    "# 封装为函数\n",
    "cocox.unzip_annotations()"
   ]
  },
  {
   "cell_type": "code",
   "execution_count": null,
   "metadata": {
    "ExecuteTime": {
     "end_time": "2018-04-28T10:26:55.511601Z",
     "start_time": "2018-04-28T10:26:55.430289Z"
    }
   },
   "outputs": [],
   "source": [
    "# 删除标签的压缩文件\n",
    "cocox.del_annotations()"
   ]
  },
  {
   "cell_type": "markdown",
   "metadata": {},
   "source": [
    "由于图片数据比较大，我就不解压了，不过可以通过 `MXNet + zipfile` 来直接获取图片信息。\n",
    "\n",
    "# 获取图片数据\n",
    "\n",
    "我以 `test2017.zip` 为例："
   ]
  },
  {
   "cell_type": "code",
   "execution_count": null,
   "metadata": {
    "ExecuteTime": {
     "end_time": "2018-04-28T10:38:48.972939Z",
     "start_time": "2018-04-28T10:38:48.967940Z"
    }
   },
   "outputs": [],
   "source": [
    "image_names"
   ]
  },
  {
   "cell_type": "code",
   "execution_count": null,
   "metadata": {
    "ExecuteTime": {
     "end_time": "2018-04-28T10:39:53.538669Z",
     "start_time": "2018-04-28T10:39:52.689775Z"
    }
   },
   "outputs": [],
   "source": [
    "z = zipfile.ZipFile(image_names[0])"
   ]
  },
  {
   "cell_type": "code",
   "execution_count": null,
   "metadata": {
    "ExecuteTime": {
     "end_time": "2018-04-28T10:40:06.474064Z",
     "start_time": "2018-04-28T10:40:06.457051Z"
    }
   },
   "outputs": [],
   "source": [
    "# 测试集的图片名称列表\n",
    "z.namelist()"
   ]
  },
  {
   "cell_type": "markdown",
   "metadata": {},
   "source": [
    "我们可以看出，第一个是目录名，之后的才是图片。下面我们来看看第一张图片："
   ]
  },
  {
   "cell_type": "code",
   "execution_count": null,
   "metadata": {
    "ExecuteTime": {
     "end_time": "2018-04-28T10:43:52.958770Z",
     "start_time": "2018-04-28T10:43:52.951786Z"
    }
   },
   "outputs": [],
   "source": []
  },
  {
   "cell_type": "code",
   "execution_count": null,
   "metadata": {
    "ExecuteTime": {
     "end_time": "2018-04-28T10:44:07.559578Z",
     "start_time": "2018-04-28T10:44:07.556538Z"
    }
   },
   "outputs": [],
   "source": [
    "from mxnet import image"
   ]
  },
  {
   "cell_type": "code",
   "execution_count": null,
   "metadata": {
    "ExecuteTime": {
     "end_time": "2018-04-28T10:45:21.593219Z",
     "start_time": "2018-04-28T10:45:21.244986Z"
    },
    "scrolled": true
   },
   "outputs": [],
   "source": [
    "r = z.read(z.namelist()[1])    # bytes\n",
    "data = image.imdecode(r)       # 转换为 NDArray 数组，可以做数值运算\n",
    "data"
   ]
  },
  {
   "cell_type": "code",
   "execution_count": null,
   "metadata": {
    "ExecuteTime": {
     "end_time": "2018-04-28T10:46:58.916696Z",
     "start_time": "2018-04-28T10:46:58.912692Z"
    }
   },
   "outputs": [],
   "source": [
    "x = data.asnumpy()   # 转换为 array"
   ]
  },
  {
   "cell_type": "code",
   "execution_count": null,
   "metadata": {
    "ExecuteTime": {
     "end_time": "2018-04-28T10:48:17.700145Z",
     "start_time": "2018-04-28T10:48:17.421703Z"
    }
   },
   "outputs": [],
   "source": [
    "# 显示图片\n",
    "%pylab inline \n",
    "plt.imshow(x)"
   ]
  },
  {
   "cell_type": "markdown",
   "metadata": {},
   "source": [
    "为此，我们可以将其封装为一个迭代器：`cocox.data_iter(dataType)`"
   ]
  },
  {
   "cell_type": "markdown",
   "metadata": {},
   "source": [
    "# 获取标签信息（利用官方给定教程）\n",
    "\n",
    "- 安装 python API：\n",
    "```sh\n",
    "pip install -U pycocotools\n",
    "```\n",
    "\n",
    "Windows 下有许多的坑：[Windows 10 编译 Pycocotools 踩坑记](https://www.jianshu.com/p/de455d653301)"
   ]
  },
  {
   "cell_type": "code",
   "execution_count": null,
   "metadata": {},
   "outputs": [],
   "source": [
    "!pip install -U pycocotools"
   ]
  },
  {
   "cell_type": "code",
   "execution_count": 6,
   "metadata": {
    "ExecuteTime": {
     "end_time": "2018-11-28T10:54:27.287470Z",
     "start_time": "2018-11-28T10:54:27.284476Z"
    }
   },
   "outputs": [],
   "source": [
    "import sys\n",
    "sys.path.append('D:\\API\\cocoapi\\PythonAPI')"
   ]
  },
  {
   "cell_type": "code",
   "execution_count": 7,
   "metadata": {
    "ExecuteTime": {
     "end_time": "2018-11-28T10:54:28.786210Z",
     "start_time": "2018-11-28T10:54:27.913220Z"
    },
    "scrolled": false
   },
   "outputs": [
    {
     "name": "stdout",
     "output_type": "stream",
     "text": [
      "Populating the interactive namespace from numpy and matplotlib\n"
     ]
    }
   ],
   "source": [
    "%pylab inline\n",
    "from pycocotools.coco import COCO\n",
    "import numpy as np\n",
    "import skimage.io as io\n",
    "import matplotlib.pyplot as plt\n",
    "import pylab\n",
    "pylab.rcParams['figure.figsize'] = (8.0, 10.0)"
   ]
  },
  {
   "cell_type": "code",
   "execution_count": 8,
   "metadata": {
    "ExecuteTime": {
     "end_time": "2018-11-28T10:54:34.685277Z",
     "start_time": "2018-11-28T10:54:34.660254Z"
    }
   },
   "outputs": [
    {
     "ename": "NameError",
     "evalue": "name 'cocox' is not defined",
     "output_type": "error",
     "traceback": [
      "\u001b[1;31m---------------------------------------------------------------------------\u001b[0m",
      "\u001b[1;31mNameError\u001b[0m                                 Traceback (most recent call last)",
      "\u001b[1;32m<ipython-input-8-b0561a138ffa>\u001b[0m in \u001b[0;36m<module>\u001b[1;34m()\u001b[0m\n\u001b[1;32m----> 1\u001b[1;33m \u001b[0mdataDir\u001b[0m \u001b[1;33m=\u001b[0m \u001b[0mcocox\u001b[0m\u001b[1;33m.\u001b[0m\u001b[0mroot\u001b[0m\u001b[1;33m\u001b[0m\u001b[0m\n\u001b[0m\u001b[0;32m      2\u001b[0m \u001b[0mdataType\u001b[0m \u001b[1;33m=\u001b[0m \u001b[1;34m'val2017'\u001b[0m\u001b[1;33m\u001b[0m\u001b[0m\n\u001b[0;32m      3\u001b[0m \u001b[0mannFile\u001b[0m \u001b[1;33m=\u001b[0m \u001b[1;34m'{}/annotations/instances_{}.json'\u001b[0m\u001b[1;33m.\u001b[0m\u001b[0mformat\u001b[0m\u001b[1;33m(\u001b[0m\u001b[0mdataDir\u001b[0m\u001b[1;33m,\u001b[0m \u001b[0mdataType\u001b[0m\u001b[1;33m)\u001b[0m\u001b[1;33m\u001b[0m\u001b[0m\n",
      "\u001b[1;31mNameError\u001b[0m: name 'cocox' is not defined"
     ]
    }
   ],
   "source": [
    "dataDir = cocox.root\n",
    "dataType = 'val2017'\n",
    "annFile = '{}/annotations/instances_{}.json'.format(dataDir, dataType)"
   ]
  },
  {
   "cell_type": "code",
   "execution_count": null,
   "metadata": {
    "ExecuteTime": {
     "end_time": "2018-04-28T11:06:29.820365Z",
     "start_time": "2018-04-28T11:06:28.622545Z"
    },
    "scrolled": true
   },
   "outputs": [],
   "source": [
    "# initialize COCO api for instance annotations\n",
    "coco=COCO(annFile)"
   ]
  },
  {
   "cell_type": "markdown",
   "metadata": {},
   "source": [
    "`COCO` 是一个类：\n",
    "```json\n",
    "Constructor of Microsoft COCO helper class for reading and visualizing annotations.\n",
    ":param annotation_file (str): location of annotation file\n",
    ":param image_folder (str): location to the folder that hosts images.\n",
    "```\n",
    "\n",
    "## display COCO categories and supercategories"
   ]
  },
  {
   "cell_type": "code",
   "execution_count": null,
   "metadata": {
    "ExecuteTime": {
     "end_time": "2018-04-28T11:14:10.351964Z",
     "start_time": "2018-04-28T11:14:10.346966Z"
    }
   },
   "outputs": [],
   "source": [
    "cats = coco.loadCats(coco.getCatIds())\n",
    "nms = [cat['name'] for cat in cats]\n",
    "print('COCO categories: \\n{}\\n'.format(' '.join(nms)))\n",
    "\n",
    "nms = set([cat['supercategory'] for cat in cats])\n",
    "print('COCO supercategories: \\n{}'.format(' '.join(nms)))"
   ]
  },
  {
   "cell_type": "code",
   "execution_count": null,
   "metadata": {
    "ExecuteTime": {
     "end_time": "2018-04-28T11:34:16.036453Z",
     "start_time": "2018-04-28T11:34:16.029441Z"
    }
   },
   "outputs": [],
   "source": [
    "# get all images containing given categories, select one at random\n",
    "catIds = coco.getCatIds(catNms=['person', 'dog', 'skateboard'])\n",
    "imgIds = coco.getImgIds(catIds=catIds)\n",
    "imgIds = coco.getImgIds(imgIds=[335328])\n",
    "img = coco.loadImgs(imgIds[np.random.randint(0, len(imgIds))])[0]"
   ]
  },
  {
   "cell_type": "code",
   "execution_count": null,
   "metadata": {
    "ExecuteTime": {
     "end_time": "2018-04-28T11:34:17.013257Z",
     "start_time": "2018-04-28T11:34:17.007273Z"
    }
   },
   "outputs": [],
   "source": [
    "img"
   ]
  },
  {
   "cell_type": "markdown",
   "metadata": {
    "ExecuteTime": {
     "end_time": "2018-04-28T11:20:37.193328Z",
     "start_time": "2018-04-28T11:20:37.172326Z"
    }
   },
   "source": [
    "官方给的这个代码需要将图片数据集解压：\n",
    "```py\n",
    "# load and display image\n",
    "# use url to load image\n",
    "# I = io.imread(img['coco_url'])\n",
    "I = io.imread('%s/images/%s/%s' % (dataDir, dataType, img['file_name']))\n",
    "plt.axis('off')\n",
    "plt.imshow(I)\n",
    "plt.show()\n",
    "```"
   ]
  },
  {
   "cell_type": "markdown",
   "metadata": {},
   "source": [
    "我们可以使用 `zipfile` 模块直接读取图片，而无须解压："
   ]
  },
  {
   "cell_type": "code",
   "execution_count": null,
   "metadata": {
    "ExecuteTime": {
     "end_time": "2018-04-28T11:24:24.524010Z",
     "start_time": "2018-04-28T11:24:24.518009Z"
    }
   },
   "outputs": [],
   "source": [
    "image_names[-1]"
   ]
  },
  {
   "cell_type": "code",
   "execution_count": null,
   "metadata": {
    "ExecuteTime": {
     "end_time": "2018-04-28T11:39:08.346913Z",
     "start_time": "2018-04-28T11:39:07.935172Z"
    },
    "scrolled": false
   },
   "outputs": [],
   "source": [
    "val_z = zipfile.ZipFile(image_names[-1])\n",
    "I = image.imdecode(val_z.read('%s/%s' % (dataType, img['file_name']))).asnumpy()\n",
    "plt.axis('off')\n",
    "plt.imshow(I)\n",
    "plt.show()"
   ]
  },
  {
   "cell_type": "markdown",
   "metadata": {},
   "source": [
    "## load and display instance annotations"
   ]
  },
  {
   "cell_type": "code",
   "execution_count": null,
   "metadata": {
    "ExecuteTime": {
     "end_time": "2018-04-28T11:41:09.286304Z",
     "start_time": "2018-04-28T11:41:08.920570Z"
    }
   },
   "outputs": [],
   "source": [
    "plt.imshow(I)\n",
    "plt.axis('off')\n",
    "annIds = coco.getAnnIds(imgIds=img['id'], catIds=catIds, iscrowd=None)\n",
    "anns = coco.loadAnns(annIds)\n",
    "coco.showAnns(anns)"
   ]
  },
  {
   "cell_type": "markdown",
   "metadata": {},
   "source": [
    "## initialize COCO api for person keypoints annotations"
   ]
  },
  {
   "cell_type": "code",
   "execution_count": null,
   "metadata": {
    "ExecuteTime": {
     "end_time": "2018-04-28T11:41:43.803298Z",
     "start_time": "2018-04-28T11:41:43.359165Z"
    },
    "scrolled": true
   },
   "outputs": [],
   "source": [
    "annFile = '{}/annotations/person_keypoints_{}.json'.format(dataDir, dataType)\n",
    "coco_kps = COCO(annFile)"
   ]
  },
  {
   "cell_type": "markdown",
   "metadata": {},
   "source": [
    "## load and display keypoints annotations"
   ]
  },
  {
   "cell_type": "code",
   "execution_count": null,
   "metadata": {
    "ExecuteTime": {
     "end_time": "2018-04-28T11:42:14.901081Z",
     "start_time": "2018-04-28T11:42:14.497867Z"
    }
   },
   "outputs": [],
   "source": [
    "plt.imshow(I)\n",
    "plt.axis('off')\n",
    "ax = plt.gca()\n",
    "annIds = coco_kps.getAnnIds(imgIds=img['id'], catIds=catIds, iscrowd=None)\n",
    "anns = coco_kps.loadAnns(annIds)\n",
    "coco_kps.showAnns(anns)"
   ]
  },
  {
   "cell_type": "markdown",
   "metadata": {},
   "source": [
    "## initialize COCO api for caption annotations"
   ]
  },
  {
   "cell_type": "code",
   "execution_count": null,
   "metadata": {
    "ExecuteTime": {
     "end_time": "2018-04-28T11:42:48.616009Z",
     "start_time": "2018-04-28T11:42:48.534026Z"
    }
   },
   "outputs": [],
   "source": [
    "annFile = '{}/annotations/captions_{}.json'.format(dataDir, dataType)\n",
    "coco_caps = COCO(annFile)"
   ]
  },
  {
   "cell_type": "markdown",
   "metadata": {},
   "source": [
    "## load and display caption annotations"
   ]
  },
  {
   "cell_type": "code",
   "execution_count": null,
   "metadata": {
    "ExecuteTime": {
     "end_time": "2018-04-28T11:43:21.356992Z",
     "start_time": "2018-04-28T11:43:21.000887Z"
    },
    "scrolled": true
   },
   "outputs": [],
   "source": [
    "annIds = coco_caps.getAnnIds(imgIds=img['id'])\n",
    "anns = coco_caps.loadAnns(annIds)\n",
    "coco_caps.showAnns(anns)\n",
    "plt.imshow(I)\n",
    "plt.axis('off')\n",
    "plt.show()"
   ]
  },
  {
   "cell_type": "code",
   "execution_count": null,
   "metadata": {},
   "outputs": [],
   "source": []
  }
 ],
 "metadata": {
  "kernelspec": {
   "display_name": "Python [default]",
   "language": "python",
   "name": "python3"
  },
  "language_info": {
   "codemirror_mode": {
    "name": "ipython",
    "version": 3
   },
   "file_extension": ".py",
   "mimetype": "text/x-python",
   "name": "python",
   "nbconvert_exporter": "python",
   "pygments_lexer": "ipython3",
   "version": "3.6.5"
  },
  "latex_envs": {
   "LaTeX_envs_menu_present": true,
   "autoclose": false,
   "autocomplete": true,
   "bibliofile": "biblio.bib",
   "cite_by": "apalike",
   "current_citInitial": 1,
   "eqLabelWithNumbers": true,
   "eqNumInitial": 1,
   "hotkeys": {
    "equation": "Ctrl-E",
    "itemize": "Ctrl-I"
   },
   "labels_anchors": false,
   "latex_user_defs": false,
   "report_style_numbering": false,
   "user_envs_cfg": false
  },
  "nbTranslate": {
   "displayLangs": [
    "*"
   ],
   "hotkey": "alt-t",
   "langInMainMenu": true,
   "sourceLang": "en",
   "targetLang": "fr",
   "useGoogleTranslate": true
  },
  "toc": {
   "base_numbering": 1,
   "nav_menu": {},
   "number_sections": true,
   "sideBar": true,
   "skip_h1_title": false,
   "title_cell": "Table of Contents",
   "title_sidebar": "Contents",
   "toc_cell": false,
   "toc_position": {
    "height": "calc(100% - 180px)",
    "left": "10px",
    "top": "150px",
    "width": "278px"
   },
   "toc_section_display": true,
   "toc_window_display": false
  },
  "varInspector": {
   "cols": {
    "lenName": 16,
    "lenType": 16,
    "lenVar": 40
   },
   "kernels_config": {
    "python": {
     "delete_cmd_postfix": "",
     "delete_cmd_prefix": "del ",
     "library": "var_list.py",
     "varRefreshCmd": "print(var_dic_list())"
    },
    "r": {
     "delete_cmd_postfix": ") ",
     "delete_cmd_prefix": "rm(",
     "library": "var_list.r",
     "varRefreshCmd": "cat(var_dic_list()) "
    }
   },
   "types_to_exclude": [
    "module",
    "function",
    "builtin_function_or_method",
    "instance",
    "_Feature"
   ],
   "window_display": false
  }
 },
 "nbformat": 4,
 "nbformat_minor": 2
}
